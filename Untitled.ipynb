{
 "cells": [
  {
   "cell_type": "code",
   "execution_count": 5,
   "id": "1bd85a1a",
   "metadata": {},
   "outputs": [],
   "source": [
    "import tensorflow as tf\n",
    "import numpy as np\n",
    "\n",
    "x_data = np.random.rand(100).astype(np.float32)"
   ]
  },
  {
   "cell_type": "code",
   "execution_count": 6,
   "id": "adb2eb10",
   "metadata": {},
   "outputs": [
    {
     "data": {
      "text/plain": [
       "array([0.43437204, 0.8025993 , 0.14084932, 0.8371645 , 0.18970855,\n",
       "       0.49341068, 0.8919846 , 0.3097006 , 0.05626708, 0.14972995,\n",
       "       0.36497816, 0.11033031, 0.807297  , 0.47183537, 0.81005186,\n",
       "       0.32455456, 0.5708681 , 0.6887263 , 0.09479216, 0.19503963,\n",
       "       0.07396564, 0.85360366, 0.80265456, 0.23486404, 0.74950796,\n",
       "       0.99732536, 0.10437673, 0.6290171 , 0.6687564 , 0.96541405,\n",
       "       0.22321117, 0.47423577, 0.07637439, 0.25098282, 0.37438986,\n",
       "       0.6759491 , 0.43852195, 0.9126106 , 0.4048115 , 0.25344664,\n",
       "       0.77055615, 0.6406509 , 0.06662226, 0.8051568 , 0.96338814,\n",
       "       0.5282968 , 0.08504055, 0.33733267, 0.524403  , 0.4488756 ,\n",
       "       0.15484145, 0.05405959, 0.6587715 , 0.12587926, 0.8620441 ,\n",
       "       0.2795851 , 0.39436162, 0.13535064, 0.3772546 , 0.65525866,\n",
       "       0.800762  , 0.7097965 , 0.7634405 , 0.01597171, 0.91826063,\n",
       "       0.5228798 , 0.6594495 , 0.11470922, 0.9257052 , 0.6962804 ,\n",
       "       0.69503564, 0.8133265 , 0.81118226, 0.57443696, 0.8632759 ,\n",
       "       0.68856496, 0.32562512, 0.5380907 , 0.09462208, 0.7164033 ,\n",
       "       0.01735557, 0.35689622, 0.5403874 , 0.03179308, 0.13063769,\n",
       "       0.5647622 , 0.99480236, 0.9571256 , 0.73384285, 0.27339843,\n",
       "       0.5153184 , 0.5202218 , 0.27007574, 0.77282035, 0.2706945 ,\n",
       "       0.61653966, 0.75145155, 0.6214552 , 0.16111885, 0.4892064 ],\n",
       "      dtype=float32)"
      ]
     },
     "execution_count": 6,
     "metadata": {},
     "output_type": "execute_result"
    }
   ],
   "source": [
    "x_data"
   ]
  },
  {
   "cell_type": "code",
   "execution_count": 9,
   "id": "843d8e7c",
   "metadata": {},
   "outputs": [
    {
     "ename": "AttributeError",
     "evalue": "module 'tensorflow' has no attribute 'random_uniform'",
     "output_type": "error",
     "traceback": [
      "\u001b[1;31m---------------------------------------------------------------------------\u001b[0m",
      "\u001b[1;31mAttributeError\u001b[0m                            Traceback (most recent call last)",
      "\u001b[1;32m~\\AppData\\Local\\Temp/ipykernel_932/628000746.py\u001b[0m in \u001b[0;36m<module>\u001b[1;34m\u001b[0m\n\u001b[0;32m      1\u001b[0m \u001b[0my_data\u001b[0m \u001b[1;33m=\u001b[0m \u001b[0mx_data\u001b[0m\u001b[1;33m*\u001b[0m\u001b[1;36m0.1\u001b[0m\u001b[1;33m+\u001b[0m\u001b[1;36m0.3\u001b[0m\u001b[1;33m\u001b[0m\u001b[1;33m\u001b[0m\u001b[0m\n\u001b[1;32m----> 2\u001b[1;33m \u001b[0mWeights\u001b[0m \u001b[1;33m=\u001b[0m \u001b[0mtf\u001b[0m\u001b[1;33m.\u001b[0m\u001b[0mVariable\u001b[0m\u001b[1;33m(\u001b[0m\u001b[0mtf\u001b[0m\u001b[1;33m.\u001b[0m\u001b[0mrandom_uniform\u001b[0m\u001b[1;33m(\u001b[0m\u001b[1;33m[\u001b[0m\u001b[1;36m1\u001b[0m\u001b[1;33m]\u001b[0m\u001b[1;33m,\u001b[0m\u001b[1;33m-\u001b[0m\u001b[1;36m1.0\u001b[0m\u001b[1;33m,\u001b[0m\u001b[1;36m1.0\u001b[0m\u001b[1;33m)\u001b[0m\u001b[1;33m)\u001b[0m\u001b[1;33m\u001b[0m\u001b[1;33m\u001b[0m\u001b[0m\n\u001b[0m",
      "\u001b[1;31mAttributeError\u001b[0m: module 'tensorflow' has no attribute 'random_uniform'"
     ]
    }
   ],
   "source": [
    "y_data = x_data*0.1+0.3\n",
    "Weights = tf.Variable(tf.random_uniform([1],-1.0,1.0))\n"
   ]
  },
  {
   "cell_type": "code",
   "execution_count": null,
   "id": "374e91b4",
   "metadata": {},
   "outputs": [],
   "source": []
  }
 ],
 "metadata": {
  "kernelspec": {
   "display_name": "Python 3 (ipykernel)",
   "language": "python",
   "name": "python3"
  },
  "language_info": {
   "codemirror_mode": {
    "name": "ipython",
    "version": 3
   },
   "file_extension": ".py",
   "mimetype": "text/x-python",
   "name": "python",
   "nbconvert_exporter": "python",
   "pygments_lexer": "ipython3",
   "version": "3.9.7"
  }
 },
 "nbformat": 4,
 "nbformat_minor": 5
}

{
 "cells": [
  {
   "cell_type": "code",
   "execution_count": 96,
   "id": "1bd85a1a",
   "metadata": {},
   "outputs": [
    {
     "data": {
      "text/plain": [
       "array([32.50234527, 31.70700585])"
      ]
     },
     "execution_count": 96,
     "metadata": {},
     "output_type": "execute_result"
    }
   ],
   "source": [
    "import numpy as np\n",
    "\n",
    "points = np.loadtxt(r\"data.csv\", delimiter=\",\")"
   ]
  },
  {
   "cell_type": "code",
   "execution_count": 88,
   "id": "4974ff51",
   "metadata": {},
   "outputs": [],
   "source": [
    "def compute_error_for_line_given_points(w,b,points):\n",
    "    total_loss = 0.0\n",
    "    for i in range(0,len(points)):\n",
    "        x = points[i,0]\n",
    "        y = points[i,1]\n",
    "        total_loss += (w*x+b-y) **2\n",
    "    return total_loss/float(len(points))"
   ]
  },
  {
   "cell_type": "code",
   "execution_count": 89,
   "id": "4d60c28c",
   "metadata": {},
   "outputs": [],
   "source": [
    "def step_gradient(w_current,b_current,points,learningRate):\n",
    "    w_gradient = 0.0\n",
    "    b_gradient = 0.0\n",
    "    N = float(len(points))\n",
    "    for i in range(0,len(points)):\n",
    "        x = points[i,0]\n",
    "        y = points[i,1]\n",
    "        w_gradient += (2/N)*x*(w_current*x+b_current-y)\n",
    "        b_gradient += (2/N)*(w_current*x+b_current-y)\n",
    "    new_w = w_current-learningRate*w_gradient\n",
    "    new_b = b_current-learningRate*b_gradient\n",
    "    return [new_w,new_b]"
   ]
  },
  {
   "cell_type": "code",
   "execution_count": 90,
   "id": "112daf7f",
   "metadata": {},
   "outputs": [],
   "source": [
    "def gradient_descent_runner(points,w,b,lr,num_iter):\n",
    "    for i in range(num_iter):\n",
    "        w,b = step_gradient(w,b,points,lr)\n",
    "#         loss = compute_error_for_line_given_points(w,b,points)\n",
    "#         if loss < predict_loss:\n",
    "#             break\n",
    "    return [w,b]"
   ]
  },
  {
   "cell_type": "code",
   "execution_count": 94,
   "id": "f6bed24d",
   "metadata": {},
   "outputs": [
    {
     "name": "stdout",
     "output_type": "stream",
     "text": [
      "给定w，b的值计算出来的损失值为5565.107834483211\n",
      "经过1000次迭代后的w=1.4788027179317091,b=0.0350749501965312,error=112.64705665514039\n"
     ]
    }
   ],
   "source": [
    "w_init = 0\n",
    "b_init = 0\n",
    "learning_rate = 0.00001\n",
    "num_iter = 1000\n",
    "\n",
    "loss_init = compute_error_for_line_given_points(w_init,b_init,points)\n",
    "print('给定w，b的值计算出来的损失值为{}'.format(loss_init))\n",
    "w,b = gradient_descent_runner(points,w_init,b_init,learning_rate,num_iter)\n",
    "print('经过{0}次迭代后的w={1},b={2},error={3}'.format(num_iter,w,b,compute_error_for_line_given_points(w,b,points)))\n"
   ]
  },
  {
   "cell_type": "code",
   "execution_count": 100,
   "id": "f2d924d5",
   "metadata": {},
   "outputs": [
    {
     "data": {
      "text/plain": [
       "[16.392625627248584,\n",
       " 10.265181983369516,\n",
       " 28.463953335873043,\n",
       " -1.3044523559031944,\n",
       " 1.2560841821582471,\n",
       " 3.3679747786398195,\n",
       " -2.3959512430683247,\n",
       " -1.0201083305784309,\n",
       " -4.158300946861459,\n",
       " 6.445299248611519,\n",
       " 12.036218190349373,\n",
       " -2.0684264209081817,\n",
       " 3.3360681351696684,\n",
       " 10.661897118221901,\n",
       " 2.4872322468299046,\n",
       " 11.707573579823837,\n",
       " -16.773881537395596,\n",
       " -8.176971080200985,\n",
       " 18.64889603264698,\n",
       " 0.5602770397618642,\n",
       " 14.038190983060886,\n",
       " -21.818707235260376,\n",
       " 12.99859582792503,\n",
       " 10.125504172861426,\n",
       " 1.323226592621225,\n",
       " 13.067243873884081,\n",
       " -10.669789123073457,\n",
       " -1.1194261859585026,\n",
       " -9.901612609194913,\n",
       " -8.633522153633223,\n",
       " 13.905271985269437,\n",
       " 11.219993392036798,\n",
       " -13.827088885561722,\n",
       " -10.720611473710548,\n",
       " 10.988678260323042,\n",
       " 0.6445108768304664,\n",
       " 13.79889486172452,\n",
       " -1.7452656439016323,\n",
       " -8.207825971850738,\n",
       " -5.060310891622592,\n",
       " 13.241046360097194,\n",
       " 5.5244443246406405,\n",
       " -8.822602678454672,\n",
       " 3.4863463629355422,\n",
       " -22.048232098266723,\n",
       " 2.7755568364656753,\n",
       " 5.349939578932428,\n",
       " -8.732407540672838,\n",
       " -2.611926284814558,\n",
       " 2.14804878658245,\n",
       " -23.7595011192304,\n",
       " 0.743837624492727,\n",
       " -5.488518600355121,\n",
       " -3.54916238091959,\n",
       " 2.150445221616849,\n",
       " 10.344985014281363,\n",
       " -17.8782602717153,\n",
       " 5.931864921615741,\n",
       " -11.944780229450032,\n",
       " 1.458987270915685,\n",
       " -0.7488852284045464,\n",
       " 4.403239980156158,\n",
       " -8.605827625531205,\n",
       " 15.066727884442564,\n",
       " -20.110724007461393,\n",
       " 13.670916083140831,\n",
       " -2.4572212876846464,\n",
       " -10.674453295497585,\n",
       " 18.909418583877937,\n",
       " 0.07420219970483544,\n",
       " -3.6450019136997156,\n",
       " 15.746608649850202,\n",
       " -3.178369512517264,\n",
       " 5.970523678135336,\n",
       " -0.1940588198772133,\n",
       " -20.810789163474638,\n",
       " -6.413842907645801,\n",
       " -0.5842882729172203,\n",
       " 3.0103084375869003,\n",
       " 12.79436908984102,\n",
       " 3.9732227658124657,\n",
       " 0.9902100219961767,\n",
       " -4.916496182664325,\n",
       " 9.723810239932007,\n",
       " -13.558957185915816,\n",
       " 1.1872839015635464,\n",
       " 5.996314941340202,\n",
       " 4.882966695781079,\n",
       " -8.272045500635073,\n",
       " -5.129210624402475,\n",
       " -18.4231095496797,\n",
       " -6.233785666896907,\n",
       " -13.12784154523122,\n",
       " -21.722018209459904,\n",
       " 3.146110380346826,\n",
       " -7.517158039767651,\n",
       " 0.7391412997647109,\n",
       " -11.19827148809037,\n",
       " 5.014259258223646,\n",
       " -16.25924787002308]"
      ]
     },
     "execution_count": 100,
     "metadata": {},
     "output_type": "execute_result"
    }
   ],
   "source": [
    "a = []\n",
    "for i in range(100):\n",
    "    given_x = points[i][0]\n",
    "    given_y = points[i][1]\n",
    "    predict_y = w*given_x+b\n",
    "    a.append(predict_y-given_y)"
   ]
  },
  {
   "cell_type": "code",
   "execution_count": 111,
   "id": "e869341c",
   "metadata": {},
   "outputs": [
    {
     "name": "stdout",
     "output_type": "stream",
     "text": [
      "[3 7]\n"
     ]
    },
    {
     "ename": "ValueError",
     "evalue": "cannot reshape array of size 6 into shape (1,3)",
     "output_type": "error",
     "traceback": [
      "\u001b[1;31m---------------------------------------------------------------------------\u001b[0m",
      "\u001b[1;31mValueError\u001b[0m                                Traceback (most recent call last)",
      "\u001b[1;32m~\\AppData\\Local\\Temp/ipykernel_17112/3790154174.py\u001b[0m in \u001b[0;36m<module>\u001b[1;34m\u001b[0m\n\u001b[0;32m      3\u001b[0m \u001b[0mb\u001b[0m \u001b[1;33m=\u001b[0m \u001b[0mnp\u001b[0m\u001b[1;33m.\u001b[0m\u001b[0marray\u001b[0m\u001b[1;33m(\u001b[0m\u001b[1;33m[\u001b[0m\u001b[1;33m[\u001b[0m\u001b[1;36m2\u001b[0m\u001b[1;33m,\u001b[0m\u001b[1;36m3\u001b[0m\u001b[1;33m]\u001b[0m\u001b[1;33m,\u001b[0m\u001b[1;33m[\u001b[0m\u001b[1;36m1\u001b[0m\u001b[1;33m,\u001b[0m\u001b[1;36m2\u001b[0m\u001b[1;33m]\u001b[0m\u001b[1;33m]\u001b[0m\u001b[1;33m)\u001b[0m\u001b[1;33m\u001b[0m\u001b[1;33m\u001b[0m\u001b[0m\n\u001b[0;32m      4\u001b[0m \u001b[0mprint\u001b[0m\u001b[1;33m(\u001b[0m\u001b[0ma\u001b[0m\u001b[1;33m.\u001b[0m\u001b[0msum\u001b[0m\u001b[1;33m(\u001b[0m\u001b[0maxis\u001b[0m\u001b[1;33m=\u001b[0m\u001b[1;36m1\u001b[0m\u001b[1;33m)\u001b[0m\u001b[1;33m)\u001b[0m\u001b[1;33m\u001b[0m\u001b[1;33m\u001b[0m\u001b[0m\n\u001b[1;32m----> 5\u001b[1;33m \u001b[0mnp\u001b[0m\u001b[1;33m.\u001b[0m\u001b[0marray\u001b[0m\u001b[1;33m(\u001b[0m\u001b[1;33m[\u001b[0m\u001b[1;36m1\u001b[0m\u001b[1;33m,\u001b[0m\u001b[1;36m2\u001b[0m\u001b[1;33m,\u001b[0m\u001b[1;36m3\u001b[0m\u001b[1;33m,\u001b[0m\u001b[1;36m4\u001b[0m\u001b[1;33m,\u001b[0m\u001b[1;36m5\u001b[0m\u001b[1;33m,\u001b[0m\u001b[1;36m6\u001b[0m\u001b[1;33m]\u001b[0m\u001b[1;33m)\u001b[0m\u001b[1;33m.\u001b[0m\u001b[0mreshape\u001b[0m\u001b[1;33m(\u001b[0m\u001b[1;36m1\u001b[0m\u001b[1;33m,\u001b[0m\u001b[1;36m3\u001b[0m\u001b[1;33m)\u001b[0m\u001b[1;33m\u001b[0m\u001b[1;33m\u001b[0m\u001b[0m\n\u001b[0m",
      "\u001b[1;31mValueError\u001b[0m: cannot reshape array of size 6 into shape (1,3)"
     ]
    }
   ],
   "source": [
    "import numpy as np\n",
    "a = np.array([[1,2],[3,4]])\n",
    "b = np.array([[2,3],[1,2]])\n",
    "print(a.sum(axis=1))\n",
    "np.array([1,2,3,4,5,6]).reshape(1,3)"
   ]
  },
  {
   "cell_type": "code",
   "execution_count": 118,
   "id": "596fa659",
   "metadata": {},
   "outputs": [
    {
     "data": {
      "text/plain": [
       "array([[5., 5., 5., 5.],\n",
       "       [5., 5., 5., 5.],\n",
       "       [5., 5., 5., 5.]])"
      ]
     },
     "execution_count": 118,
     "metadata": {},
     "output_type": "execute_result"
    }
   ],
   "source": [
    "a = np.zeros((3,4),dtype = np.int16)+5\n",
    "b = np.ones((1,4))\n",
    "a*b"
   ]
  },
  {
   "cell_type": "code",
   "execution_count": null,
   "id": "2a5a4bf4",
   "metadata": {},
   "outputs": [],
   "source": []
  }
 ],
 "metadata": {
  "kernelspec": {
   "display_name": "Python 3 (ipykernel)",
   "language": "python",
   "name": "python3"
  },
  "language_info": {
   "codemirror_mode": {
    "name": "ipython",
    "version": 3
   },
   "file_extension": ".py",
   "mimetype": "text/x-python",
   "name": "python",
   "nbconvert_exporter": "python",
   "pygments_lexer": "ipython3",
   "version": "3.9.7"
  }
 },
 "nbformat": 4,
 "nbformat_minor": 5
}
